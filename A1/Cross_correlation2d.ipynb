{
 "cells": [
  {
   "cell_type": "code",
   "execution_count": 23,
   "metadata": {
    "collapsed": true
   },
   "outputs": [],
   "source": [
    "import numpy as np\n",
    "import cv2\n",
    "from matplotlib import pyplot as plt"
   ]
  },
  {
   "cell_type": "code",
   "execution_count": 24,
   "metadata": {},
   "outputs": [],
   "source": [
    "img=cv2.imread('/Users/xin/Desktop/ComputerVision/Cornell-CS5670-2018-master/Project1_Hybrid_Images/resources/cat.jpg')\n",
    "# cv2.imshow('image',img)#show the image in a window called image"
   ]
  },
  {
   "cell_type": "code",
   "execution_count": 25,
   "metadata": {},
   "outputs": [],
   "source": [
    "kernel=np.array([[0,2,1],[0,1,0],[0,0,0]])"
   ]
  },
  {
   "cell_type": "code",
   "execution_count": 26,
   "metadata": {},
   "outputs": [],
   "source": [
    "def cross_correlation_2d(img, kernel):\n",
    "    k_row=int((kernel.shape[0]-1)/2)\n",
    "    k_col=int((kernel.shape[1]-1)/2)\n",
    "    \n",
    "    kernel.shape=(1,len(kernel.flatten()))\n",
    "    kernel=np.transpose(kernel)\n",
    "    img_d=img.ndim\n",
    "    G=np.zeros((img.shape[0],img.shape[1],img_d),dtype=float)\n",
    "    \n",
    "    if img_d==2:\n",
    "        img=img.reshape((img.shape[0],img.shape[1],1))\n",
    "        \n",
    "    for d in range(img.shape[2]):\n",
    "        img_gray=img[:,:,d]\n",
    "        for i in range(k_row,img_gray.shape[0]-k_row):\n",
    "            for j in range(k_col,img_gray.shape[1]-k_col):\n",
    "                g=[]\n",
    "                img_gray_s=img_gray[i-k_row:i+k_row+1,j-k_col:j+k_col+1]\n",
    "                img_gray_s=img_gray_s.flatten()\n",
    "                g=np.matrix.dot(img_gray_s,kernel)\n",
    "                G[i,j,d]=np.sum(g)\n",
    "    return G"
   ]
  },
  {
   "cell_type": "code",
   "execution_count": 27,
   "metadata": {},
   "outputs": [
    {
     "data": {
      "text/plain": [
       "True"
      ]
     },
     "execution_count": 27,
     "metadata": {},
     "output_type": "execute_result"
    }
   ],
   "source": [
    "correlation_img=cross_correlation_2d(img, kernel)\n",
    "cv2.imwrite('mycat_1.jpg',correlation_img)"
   ]
  },
  {
   "cell_type": "code",
   "execution_count": 28,
   "metadata": {
    "collapsed": true
   },
   "outputs": [],
   "source": [
    "def convolve_2d(img, kernel):\n",
    "    kernel_t=kernel.transpose()\n",
    "    \n",
    "    return cross_correlation_2d(img, kernel_t)"
   ]
  },
  {
   "cell_type": "code",
   "execution_count": 29,
   "metadata": {},
   "outputs": [
    {
     "data": {
      "text/plain": [
       "True"
      ]
     },
     "execution_count": 29,
     "metadata": {},
     "output_type": "execute_result"
    }
   ],
   "source": [
    "convolution_img=convolve_2d(img,kernel)\n",
    "cv2.imwrite('mycat_2.jpg',convolution_img)"
   ]
  },
  {
   "cell_type": "code",
   "execution_count": null,
   "metadata": {
    "collapsed": true
   },
   "outputs": [],
   "source": []
  }
 ],
 "metadata": {
  "kernelspec": {
   "display_name": "Python 3",
   "language": "python",
   "name": "python3"
  },
  "language_info": {
   "codemirror_mode": {
    "name": "ipython",
    "version": 3
   },
   "file_extension": ".py",
   "mimetype": "text/x-python",
   "name": "python",
   "nbconvert_exporter": "python",
   "pygments_lexer": "ipython3",
   "version": "3.6.3"
  }
 },
 "nbformat": 4,
 "nbformat_minor": 2
}
