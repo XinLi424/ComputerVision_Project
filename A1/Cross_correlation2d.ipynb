{
 "cells": [
  {
   "cell_type": "code",
   "execution_count": 3,
   "metadata": {
    "collapsed": true
   },
   "outputs": [],
   "source": [
    "import numpy as np\n",
    "import cv2"
   ]
  },
  {
   "cell_type": "code",
   "execution_count": 4,
   "metadata": {},
   "outputs": [],
   "source": [
    "img=cv2.imread('/Users/xin/Desktop/ComputerVision/ComputerVision_Assignment/Project1_Hybrid_Images/resources/cat.jpg')\n",
    "# cv2.imshow('image',img)#show the image in a window called image"
   ]
  },
  {
   "cell_type": "code",
   "execution_count": 5,
   "metadata": {
    "collapsed": true
   },
   "outputs": [],
   "source": [
    "kernel=np.array([[0,2,1],[0,1,0],[0,0,0]])"
   ]
  },
  {
   "cell_type": "code",
   "execution_count": 11,
   "metadata": {},
   "outputs": [],
   "source": [
    "def cross_correlation_2d(img, kernel):\n",
    "    k_row=int((kernel.shape[0]-1)/2)\n",
    "    k_col=int((kernel.shape[1]-1)/2)\n",
    "    \n",
    "    kernel_flat=kernel.flatten()\n",
    "    img_d=np.ndim(img)\n",
    "    \n",
    "    if img_d==2:\n",
    "        img=img.reshape((img.shape[0],img.shape[1],1))\n",
    "\n",
    "    G=np.zeros((img.shape[0],img.shape[1],img.shape[2]))\n",
    "        \n",
    "    for d in range(img.shape[2]):\n",
    "        img_gray=img[:,:,d]\n",
    "        img_gray_pad=np.zeros((img.shape[0]+2*k_row,img.shape[1]+2*k_col))\n",
    "        img_gray_pad[k_row:img.shape[0]+k_row,k_col:img.shape[1]+k_col]=img_gray\n",
    "        \n",
    "        for i in range(img.shape[0]):\n",
    "            for j in range(img.shape[1]):\n",
    "                g=[]\n",
    "                img_gray_s=img_gray_pad[i:i+kernel.shape[0],j:j+kernel.shape[1]]\n",
    "                img_gray_s=img_gray_s.flatten()\n",
    "                G[i,j,d]=np.dot(img_gray_s,kernel_flat) \n",
    "    \n",
    "    if G.shape[2]==1:\n",
    "        G=G.reshape(G.shape[0],G.shape[1])\n",
    "    return G"
   ]
  },
  {
   "cell_type": "code",
   "execution_count": 12,
   "metadata": {},
   "outputs": [
    {
     "data": {
      "text/plain": [
       "True"
      ]
     },
     "execution_count": 12,
     "metadata": {},
     "output_type": "execute_result"
    }
   ],
   "source": [
    "correlation_img=cross_correlation_2d(img, kernel)\n",
    "cv2.imwrite('mycat_1.jpg',correlation_img)"
   ]
  },
  {
   "cell_type": "code",
   "execution_count": 39,
   "metadata": {
    "collapsed": true
   },
   "outputs": [],
   "source": [
    "def convolve_2d(img, kernel):\n",
    "    kernel_t=kernel.transpose()\n",
    "    \n",
    "    return cross_correlation_2d(img, kernel_t)"
   ]
  },
  {
   "cell_type": "code",
   "execution_count": 40,
   "metadata": {},
   "outputs": [
    {
     "data": {
      "text/plain": [
       "True"
      ]
     },
     "execution_count": 40,
     "metadata": {},
     "output_type": "execute_result"
    }
   ],
   "source": [
    "convolution_img=convolve_2d(img,kernel)\n",
    "cv2.imwrite('mycat_2.jpg',convolution_img)"
   ]
  },
  {
   "cell_type": "code",
   "execution_count": 10,
   "metadata": {},
   "outputs": [
    {
     "name": "stdout",
     "output_type": "stream",
     "text": [
      "Object `ndim` not found.\n"
     ]
    }
   ],
   "source": []
  },
  {
   "cell_type": "code",
   "execution_count": null,
   "metadata": {
    "collapsed": true
   },
   "outputs": [],
   "source": []
  }
 ],
 "metadata": {
  "kernelspec": {
   "display_name": "Python27",
   "language": "python",
   "name": "python27"
  },
  "language_info": {
   "codemirror_mode": {
    "name": "ipython",
    "version": 2
   },
   "file_extension": ".py",
   "mimetype": "text/x-python",
   "name": "python",
   "nbconvert_exporter": "python",
   "pygments_lexer": "ipython2",
   "version": "2.7.14"
  }
 },
 "nbformat": 4,
 "nbformat_minor": 2
}
