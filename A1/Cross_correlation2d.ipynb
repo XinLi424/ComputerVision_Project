{
 "cells": [
  {
   "cell_type": "code",
   "execution_count": 1,
   "metadata": {
    "collapsed": true
   },
   "outputs": [],
   "source": [
    "import numpy as np\n",
    "import cv2"
   ]
  },
  {
   "cell_type": "code",
   "execution_count": 46,
   "metadata": {},
   "outputs": [],
   "source": [
    "img=cv2.imread('/Users/xin/Desktop/ComputerVision/Cornell-CS5670-2018-master/Project1_Hybrid_Images/resources/cat.jpg')"
   ]
  },
  {
   "cell_type": "code",
   "execution_count": 59,
   "metadata": {},
   "outputs": [
    {
     "data": {
      "text/plain": [
       "array([[0, 0, 0],\n",
       "       [0, 1, 0],\n",
       "       [1, 0, 0]])"
      ]
     },
     "execution_count": 59,
     "metadata": {},
     "output_type": "execute_result"
    }
   ],
   "source": [
    "kernel=np.array([[0,0,1],[0,1,0],[0,0,0]])\n",
    "kernel.transpose()"
   ]
  },
  {
   "cell_type": "markdown",
   "metadata": {},
   "source": [
    "k_row=(kernel.shape(0)-1)/2\n",
    "k_col=(kernel.shape(1)-1)/2"
   ]
  },
  {
   "cell_type": "code",
   "execution_count": null,
   "metadata": {
    "collapsed": true
   },
   "outputs": [],
   "source": [
    "kernel.shape=(1,len(kernel.flatten()))\n",
    "kernel=np.transpose(kernel)\n",
    "img_d=img.ndim\n",
    "if img_d==2:\n",
    "    img=img.reshape((img.shape[0],img.shape[1],1))"
   ]
  },
  {
   "cell_type": "code",
   "execution_count": 56,
   "metadata": {},
   "outputs": [
    {
     "data": {
      "text/plain": [
       "1"
      ]
     },
     "execution_count": 56,
     "metadata": {},
     "output_type": "execute_result"
    }
   ],
   "source": [
    "for d in range(img.shape[2]):\n",
    "    img_gray=img[:,:,d]\n",
    "    G=np.zeros((img_gray.shape[0],img_gray.shape[1]),dtype=float)\n",
    "    for i in range(k_row,img_gray.shape[0]-k_row):\n",
    "        for j in range(k_col,img_gray.shape[1]-k_col):\n",
    "            g=[]\n",
    "            img_gray_s=img_gray[i-k_row:i+k_row+1,j-k_col:j+k_col+1]\n",
    "            img_gray_s=img_grays.flatten()\n",
    "            g=np.matrix.dot(img_gray_s,kernel)\n",
    "            G=[i,j]=np.sum(g)"
   ]
  },
  {
   "cell_type": "code",
   "execution_count": null,
   "metadata": {
    "collapsed": true
   },
   "outputs": [],
   "source": []
  }
 ],
 "metadata": {
  "kernelspec": {
   "display_name": "Python 3",
   "language": "python",
   "name": "python3"
  },
  "language_info": {
   "codemirror_mode": {
    "name": "ipython",
    "version": 3
   },
   "file_extension": ".py",
   "mimetype": "text/x-python",
   "name": "python",
   "nbconvert_exporter": "python",
   "pygments_lexer": "ipython3",
   "version": "3.6.3"
  }
 },
 "nbformat": 4,
 "nbformat_minor": 2
}
