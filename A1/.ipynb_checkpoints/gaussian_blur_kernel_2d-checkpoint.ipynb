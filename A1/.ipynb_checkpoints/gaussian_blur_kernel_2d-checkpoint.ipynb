{
 "cells": [
  {
   "cell_type": "code",
   "execution_count": 3,
   "metadata": {
    "collapsed": true
   },
   "outputs": [],
   "source": [
    "import numpy as np"
   ]
  },
  {
   "cell_type": "code",
   "execution_count": 4,
   "metadata": {
    "collapsed": true
   },
   "outputs": [],
   "source": [
    "width=5\n",
    "height=5\n",
    "sigma=1"
   ]
  },
  {
   "cell_type": "code",
   "execution_count": 11,
   "metadata": {},
   "outputs": [],
   "source": [
    "w_h=int((width-1)/2)\n",
    "h_h=int((height-1)/2)\n",
    "pi=np.pi\n",
    "a=np.array([[x**2+y**2 for x in range(-w_h,w_h+1)] for y in range(-h_h, h_h+1)])\n",
    "GaussianMatrix=1/(2*pi*sigma**2)*np.exp(-a/(2*sigma**2))"
   ]
  },
  {
   "cell_type": "code",
   "execution_count": 12,
   "metadata": {},
   "outputs": [
    {
     "name": "stdout",
     "output_type": "stream",
     "text": [
      "[[ 0.00291502  0.01306423  0.02153928  0.01306423  0.00291502]\n",
      " [ 0.01306423  0.05854983  0.09653235  0.05854983  0.01306423]\n",
      " [ 0.02153928  0.09653235  0.15915494  0.09653235  0.02153928]\n",
      " [ 0.01306423  0.05854983  0.09653235  0.05854983  0.01306423]\n",
      " [ 0.00291502  0.01306423  0.02153928  0.01306423  0.00291502]]\n"
     ]
    }
   ],
   "source": [
    "print(GaussianMatrix)"
   ]
  }
 ],
 "metadata": {
  "kernelspec": {
   "display_name": "Python 3",
   "language": "python",
   "name": "python3"
  },
  "language_info": {
   "codemirror_mode": {
    "name": "ipython",
    "version": 3
   },
   "file_extension": ".py",
   "mimetype": "text/x-python",
   "name": "python",
   "nbconvert_exporter": "python",
   "pygments_lexer": "ipython3",
   "version": "3.6.3"
  }
 },
 "nbformat": 4,
 "nbformat_minor": 2
}
